{
 "cells": [
  {
   "cell_type": "code",
   "execution_count": 1,
   "id": "5145bf33-7aa7-404b-b758-f9044152eb6e",
   "metadata": {},
   "outputs": [],
   "source": [
    "import numpy as np\n",
    "import pandas as pd"
   ]
  },
  {
   "cell_type": "code",
   "execution_count": 2,
   "id": "5d31eabf-6dcb-41c8-ba28-74f21144fea4",
   "metadata": {},
   "outputs": [],
   "source": [
    "my_list = [10,25,35]"
   ]
  },
  {
   "cell_type": "code",
   "execution_count": 3,
   "id": "ad050236-a7b2-4353-93b4-91cafcbf12db",
   "metadata": {},
   "outputs": [
    {
     "name": "stdout",
     "output_type": "stream",
     "text": [
      "[10 25 35]\n"
     ]
    }
   ],
   "source": [
    "x = np.array(my_list)\n",
    "\n",
    "print(x)"
   ]
  },
  {
   "cell_type": "code",
   "execution_count": 4,
   "id": "1469b4ee-d1c4-4940-adec-adf081fe3746",
   "metadata": {},
   "outputs": [
    {
     "data": {
      "text/plain": [
       "array([10, 25, 35])"
      ]
     },
     "execution_count": 4,
     "metadata": {},
     "output_type": "execute_result"
    }
   ],
   "source": [
    "x"
   ]
  },
  {
   "cell_type": "code",
   "execution_count": 5,
   "id": "de063f16-6bb4-4fae-a349-17c6c753bf69",
   "metadata": {},
   "outputs": [
    {
     "data": {
      "text/plain": [
       "numpy.ndarray"
      ]
     },
     "execution_count": 5,
     "metadata": {},
     "output_type": "execute_result"
    }
   ],
   "source": [
    "type(x)"
   ]
  },
  {
   "cell_type": "code",
   "execution_count": 6,
   "id": "2424bdc0-c0c9-49ec-8437-200299522606",
   "metadata": {},
   "outputs": [
    {
     "data": {
      "text/plain": [
       "0    10\n",
       "1    25\n",
       "2    35\n",
       "dtype: int64"
      ]
     },
     "execution_count": 6,
     "metadata": {},
     "output_type": "execute_result"
    }
   ],
   "source": [
    "pd.Series(my_list)"
   ]
  },
  {
   "cell_type": "code",
   "execution_count": 7,
   "id": "3d33988e-842c-4b4d-ac70-e3f6f65019a9",
   "metadata": {},
   "outputs": [],
   "source": [
    "y = pd.Series(my_list)"
   ]
  },
  {
   "cell_type": "code",
   "execution_count": 8,
   "id": "3fa664d3-2fa7-48cf-aee8-a320d12fcebd",
   "metadata": {},
   "outputs": [
    {
     "data": {
      "text/plain": [
       "pandas.core.series.Series"
      ]
     },
     "execution_count": 8,
     "metadata": {},
     "output_type": "execute_result"
    }
   ],
   "source": [
    "type(y)"
   ]
  },
  {
   "cell_type": "code",
   "execution_count": 15,
   "id": "d7332b6c-2660-4d2b-a161-8cf4bde7076f",
   "metadata": {},
   "outputs": [
    {
     "data": {
      "text/plain": [
       "Best           10\n",
       "Second Best    25\n",
       "Third Best     35\n",
       "dtype: int64"
      ]
     },
     "execution_count": 15,
     "metadata": {},
     "output_type": "execute_result"
    }
   ],
   "source": [
    "index_values = ['Best','Second Best','Third Best']\n",
    "my_list = [10,25,35]\n",
    "\n",
    "one = pd.Series(data = my_list,index = index_values)\n",
    "one"
   ]
  },
  {
   "cell_type": "code",
   "execution_count": 13,
   "id": "50629fab-f8ac-4487-8650-df7fe71e61b4",
   "metadata": {},
   "outputs": [],
   "source": [
    "index_values2 = ['Best','Second Best','Forth Best']\n",
    "my_list2 = [10,25,40]\n",
    "\n",
    "two = pd.Series(data = my_list2,index = index_values2)"
   ]
  },
  {
   "cell_type": "code",
   "execution_count": 14,
   "id": "0f97e9ed-d55e-438f-ad9a-ab9da932d29b",
   "metadata": {},
   "outputs": [
    {
     "data": {
      "text/plain": [
       "Best           10\n",
       "Second Best    25\n",
       "Forth Best     40\n",
       "dtype: int64"
      ]
     },
     "execution_count": 14,
     "metadata": {},
     "output_type": "execute_result"
    }
   ],
   "source": [
    "two"
   ]
  },
  {
   "cell_type": "code",
   "execution_count": 16,
   "id": "9cbd2b8f-f942-4f68-a993-ada0bcf4a704",
   "metadata": {},
   "outputs": [
    {
     "data": {
      "text/plain": [
       "Best           20.0\n",
       "Forth Best      NaN\n",
       "Second Best    50.0\n",
       "Third Best      NaN\n",
       "dtype: float64"
      ]
     },
     "execution_count": 16,
     "metadata": {},
     "output_type": "execute_result"
    }
   ],
   "source": [
    "total = one + two\n",
    "total"
   ]
  },
  {
   "cell_type": "code",
   "execution_count": 18,
   "id": "97b0f0ce-a034-47c7-b8a8-27f3600573c5",
   "metadata": {},
   "outputs": [
    {
     "data": {
      "text/plain": [
       "20.0"
      ]
     },
     "execution_count": 18,
     "metadata": {},
     "output_type": "execute_result"
    }
   ],
   "source": [
    "total['Best']"
   ]
  },
  {
   "cell_type": "code",
   "execution_count": 21,
   "id": "f7814b2c-f381-4400-86b4-cc575f1bea66",
   "metadata": {},
   "outputs": [],
   "source": [
    "dataframe = pd.DataFrame({'Series 1': one, 'Series 2': two})"
   ]
  },
  {
   "cell_type": "code",
   "execution_count": 22,
   "id": "8bb35a55-d64a-4c55-b41c-602452515b55",
   "metadata": {},
   "outputs": [
    {
     "name": "stdout",
     "output_type": "stream",
     "text": [
      "             Series 1  Series 2\n",
      "Best             10.0      10.0\n",
      "Forth Best        NaN      40.0\n",
      "Second Best      25.0      25.0\n",
      "Third Best       35.0       NaN\n"
     ]
    }
   ],
   "source": [
    "print(dataframe)"
   ]
  },
  {
   "cell_type": "code",
   "execution_count": 23,
   "id": "bfef2d85-87a9-4da3-af5d-33eeb642b799",
   "metadata": {},
   "outputs": [
    {
     "data": {
      "text/html": [
       "<div>\n",
       "<style scoped>\n",
       "    .dataframe tbody tr th:only-of-type {\n",
       "        vertical-align: middle;\n",
       "    }\n",
       "\n",
       "    .dataframe tbody tr th {\n",
       "        vertical-align: top;\n",
       "    }\n",
       "\n",
       "    .dataframe thead th {\n",
       "        text-align: right;\n",
       "    }\n",
       "</style>\n",
       "<table border=\"1\" class=\"dataframe\">\n",
       "  <thead>\n",
       "    <tr style=\"text-align: right;\">\n",
       "      <th></th>\n",
       "      <th>Series 1</th>\n",
       "      <th>Series 2</th>\n",
       "    </tr>\n",
       "  </thead>\n",
       "  <tbody>\n",
       "    <tr>\n",
       "      <th>Best</th>\n",
       "      <td>10.0</td>\n",
       "      <td>10.0</td>\n",
       "    </tr>\n",
       "    <tr>\n",
       "      <th>Forth Best</th>\n",
       "      <td>NaN</td>\n",
       "      <td>40.0</td>\n",
       "    </tr>\n",
       "    <tr>\n",
       "      <th>Second Best</th>\n",
       "      <td>25.0</td>\n",
       "      <td>25.0</td>\n",
       "    </tr>\n",
       "    <tr>\n",
       "      <th>Third Best</th>\n",
       "      <td>35.0</td>\n",
       "      <td>NaN</td>\n",
       "    </tr>\n",
       "  </tbody>\n",
       "</table>\n",
       "</div>"
      ],
      "text/plain": [
       "             Series 1  Series 2\n",
       "Best             10.0      10.0\n",
       "Forth Best        NaN      40.0\n",
       "Second Best      25.0      25.0\n",
       "Third Best       35.0       NaN"
      ]
     },
     "execution_count": 23,
     "metadata": {},
     "output_type": "execute_result"
    }
   ],
   "source": [
    "dataframe"
   ]
  },
  {
   "cell_type": "code",
   "execution_count": 24,
   "id": "969d7391-5d46-47f4-baac-7ffacdafa747",
   "metadata": {},
   "outputs": [],
   "source": [
    "ice_cream = [['MCC',1],['Butterscotch', 2],['Butter Pecan',3]]"
   ]
  },
  {
   "cell_type": "code",
   "execution_count": 25,
   "id": "db946e14-6e04-4f68-92a1-c2e40d28fe2f",
   "metadata": {},
   "outputs": [
    {
     "data": {
      "text/html": [
       "<div>\n",
       "<style scoped>\n",
       "    .dataframe tbody tr th:only-of-type {\n",
       "        vertical-align: middle;\n",
       "    }\n",
       "\n",
       "    .dataframe tbody tr th {\n",
       "        vertical-align: top;\n",
       "    }\n",
       "\n",
       "    .dataframe thead th {\n",
       "        text-align: right;\n",
       "    }\n",
       "</style>\n",
       "<table border=\"1\" class=\"dataframe\">\n",
       "  <thead>\n",
       "    <tr style=\"text-align: right;\">\n",
       "      <th></th>\n",
       "      <th>Flavor</th>\n",
       "      <th>Scoops</th>\n",
       "    </tr>\n",
       "  </thead>\n",
       "  <tbody>\n",
       "    <tr>\n",
       "      <th>Flavor 1</th>\n",
       "      <td>MCC</td>\n",
       "      <td>1</td>\n",
       "    </tr>\n",
       "    <tr>\n",
       "      <th>Flavor 2</th>\n",
       "      <td>Butterscotch</td>\n",
       "      <td>2</td>\n",
       "    </tr>\n",
       "    <tr>\n",
       "      <th>Flavor 3</th>\n",
       "      <td>Butter Pecan</td>\n",
       "      <td>3</td>\n",
       "    </tr>\n",
       "  </tbody>\n",
       "</table>\n",
       "</div>"
      ],
      "text/plain": [
       "                Flavor  Scoops\n",
       "Flavor 1           MCC       1\n",
       "Flavor 2  Butterscotch       2\n",
       "Flavor 3  Butter Pecan       3"
      ]
     },
     "execution_count": 25,
     "metadata": {},
     "output_type": "execute_result"
    }
   ],
   "source": [
    "pd.DataFrame(ice_cream, index = ['Flavor 1','Flavor 2','Flavor 3'], columns = ('Flavor','Scoops'))"
   ]
  },
  {
   "cell_type": "code",
   "execution_count": null,
   "id": "485c183c-27ba-449e-b045-02b29520d601",
   "metadata": {},
   "outputs": [],
   "source": []
  }
 ],
 "metadata": {
  "kernelspec": {
   "display_name": "Python 3 (ipykernel)",
   "language": "python",
   "name": "python3"
  },
  "language_info": {
   "codemirror_mode": {
    "name": "ipython",
    "version": 3
   },
   "file_extension": ".py",
   "mimetype": "text/x-python",
   "name": "python",
   "nbconvert_exporter": "python",
   "pygments_lexer": "ipython3",
   "version": "3.10.9"
  }
 },
 "nbformat": 4,
 "nbformat_minor": 5
}
