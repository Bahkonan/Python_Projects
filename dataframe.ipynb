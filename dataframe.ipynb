{
 "cells": [
  {
   "cell_type": "code",
   "execution_count": 1,
   "id": "e06aacca-0762-4bee-b147-7af585474c04",
   "metadata": {},
   "outputs": [
    {
     "data": {
      "text/plain": [
       "Best           10\n",
       "Second Best    25\n",
       "Third Best     35\n",
       "dtype: int64"
      ]
     },
     "execution_count": 1,
     "metadata": {},
     "output_type": "execute_result"
    }
   ],
   "source": [
    "import pandas as pd\n",
    "\n",
    "index_values = ['Best','Second Best','Third Best']\n",
    "my_list = [10,25,35]\n",
    "\n",
    "one = pd.Series(data = my_list,index = index_values)\n",
    "one"
   ]
  },
  {
   "cell_type": "code",
   "execution_count": 2,
   "id": "3b87b813-5fef-466f-8d73-f696a394b015",
   "metadata": {},
   "outputs": [
    {
     "data": {
      "text/plain": [
       "Best           10\n",
       "Second Best    25\n",
       "Forth Best     40\n",
       "dtype: int64"
      ]
     },
     "execution_count": 2,
     "metadata": {},
     "output_type": "execute_result"
    }
   ],
   "source": [
    "index_values2 = ['Best','Second Best','Forth Best']\n",
    "my_list2 = [10,25,40]\n",
    "\n",
    "two = pd.Series(data = my_list2,index = index_values2)\n",
    "two"
   ]
  },
  {
   "cell_type": "code",
   "execution_count": 3,
   "id": "8f38318d-45d7-45ad-9ca8-d3bcff838dac",
   "metadata": {},
   "outputs": [],
   "source": [
    "dataframe = pd.DataFrame({'Series 1': one,'Series 2': two})"
   ]
  },
  {
   "cell_type": "code",
   "execution_count": 4,
   "id": "7b9c887c-dc74-429d-97c3-ac38b4021533",
   "metadata": {},
   "outputs": [
    {
     "name": "stdout",
     "output_type": "stream",
     "text": [
      "             Series 1  Series 2\n",
      "Best             10.0      10.0\n",
      "Forth Best        NaN      40.0\n",
      "Second Best      25.0      25.0\n",
      "Third Best       35.0       NaN\n"
     ]
    }
   ],
   "source": [
    "print(dataframe)"
   ]
  },
  {
   "cell_type": "code",
   "execution_count": 5,
   "id": "bb0a323c-8291-408f-ad8c-9d0378a9dd20",
   "metadata": {},
   "outputs": [
    {
     "data": {
      "text/html": [
       "<div>\n",
       "<style scoped>\n",
       "    .dataframe tbody tr th:only-of-type {\n",
       "        vertical-align: middle;\n",
       "    }\n",
       "\n",
       "    .dataframe tbody tr th {\n",
       "        vertical-align: top;\n",
       "    }\n",
       "\n",
       "    .dataframe thead th {\n",
       "        text-align: right;\n",
       "    }\n",
       "</style>\n",
       "<table border=\"1\" class=\"dataframe\">\n",
       "  <thead>\n",
       "    <tr style=\"text-align: right;\">\n",
       "      <th></th>\n",
       "      <th>Series 1</th>\n",
       "      <th>Series 2</th>\n",
       "    </tr>\n",
       "  </thead>\n",
       "  <tbody>\n",
       "    <tr>\n",
       "      <th>Best</th>\n",
       "      <td>10.0</td>\n",
       "      <td>10.0</td>\n",
       "    </tr>\n",
       "    <tr>\n",
       "      <th>Forth Best</th>\n",
       "      <td>NaN</td>\n",
       "      <td>40.0</td>\n",
       "    </tr>\n",
       "    <tr>\n",
       "      <th>Second Best</th>\n",
       "      <td>25.0</td>\n",
       "      <td>25.0</td>\n",
       "    </tr>\n",
       "    <tr>\n",
       "      <th>Third Best</th>\n",
       "      <td>35.0</td>\n",
       "      <td>NaN</td>\n",
       "    </tr>\n",
       "  </tbody>\n",
       "</table>\n",
       "</div>"
      ],
      "text/plain": [
       "             Series 1  Series 2\n",
       "Best             10.0      10.0\n",
       "Forth Best        NaN      40.0\n",
       "Second Best      25.0      25.0\n",
       "Third Best       35.0       NaN"
      ]
     },
     "execution_count": 5,
     "metadata": {},
     "output_type": "execute_result"
    }
   ],
   "source": [
    "dataframe"
   ]
  },
  {
   "cell_type": "code",
   "execution_count": 8,
   "id": "9761e7e4-6cfe-4158-942b-336576df62a7",
   "metadata": {},
   "outputs": [],
   "source": [
    "ice_cream = [['MCC',1], ['Butterscoth',2],['Butter Pecan', 3]]"
   ]
  },
  {
   "cell_type": "code",
   "execution_count": 9,
   "id": "d035f516-ef0a-4d4f-ae16-e72948c3b6f9",
   "metadata": {},
   "outputs": [
    {
     "data": {
      "text/html": [
       "<div>\n",
       "<style scoped>\n",
       "    .dataframe tbody tr th:only-of-type {\n",
       "        vertical-align: middle;\n",
       "    }\n",
       "\n",
       "    .dataframe tbody tr th {\n",
       "        vertical-align: top;\n",
       "    }\n",
       "\n",
       "    .dataframe thead th {\n",
       "        text-align: right;\n",
       "    }\n",
       "</style>\n",
       "<table border=\"1\" class=\"dataframe\">\n",
       "  <thead>\n",
       "    <tr style=\"text-align: right;\">\n",
       "      <th></th>\n",
       "      <th>Flavor</th>\n",
       "      <th>Scoops</th>\n",
       "    </tr>\n",
       "  </thead>\n",
       "  <tbody>\n",
       "    <tr>\n",
       "      <th>Flavor 1</th>\n",
       "      <td>MCC</td>\n",
       "      <td>1</td>\n",
       "    </tr>\n",
       "    <tr>\n",
       "      <th>Flavor 2</th>\n",
       "      <td>Butterscoth</td>\n",
       "      <td>2</td>\n",
       "    </tr>\n",
       "    <tr>\n",
       "      <th>Flavor 3</th>\n",
       "      <td>Butter Pecan</td>\n",
       "      <td>3</td>\n",
       "    </tr>\n",
       "  </tbody>\n",
       "</table>\n",
       "</div>"
      ],
      "text/plain": [
       "                Flavor  Scoops\n",
       "Flavor 1           MCC       1\n",
       "Flavor 2   Butterscoth       2\n",
       "Flavor 3  Butter Pecan       3"
      ]
     },
     "execution_count": 9,
     "metadata": {},
     "output_type": "execute_result"
    }
   ],
   "source": [
    "pd.DataFrame(ice_cream, index=['Flavor 1', 'Flavor 2', 'Flavor 3'], columns=['Flavor', 'Scoops'])"
   ]
  },
  {
   "cell_type": "code",
   "execution_count": null,
   "id": "f0ddbbff-0e0d-4ee0-a393-144638a15afa",
   "metadata": {},
   "outputs": [],
   "source": []
  }
 ],
 "metadata": {
  "kernelspec": {
   "display_name": "Python 3 (ipykernel)",
   "language": "python",
   "name": "python3"
  },
  "language_info": {
   "codemirror_mode": {
    "name": "ipython",
    "version": 3
   },
   "file_extension": ".py",
   "mimetype": "text/x-python",
   "name": "python",
   "nbconvert_exporter": "python",
   "pygments_lexer": "ipython3",
   "version": "3.10.9"
  }
 },
 "nbformat": 4,
 "nbformat_minor": 5
}
